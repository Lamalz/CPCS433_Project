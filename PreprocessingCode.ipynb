{
  "nbformat": 4,
  "nbformat_minor": 0,
  "metadata": {
    "colab": {
      "provenance": [],
      "authorship_tag": "ABX9TyPUecsFSD3kj+nzXgi/l/Ex",
      "include_colab_link": true
    },
    "kernelspec": {
      "name": "python3",
      "display_name": "Python 3"
    },
    "language_info": {
      "name": "python"
    }
  },
  "cells": [
    {
      "cell_type": "markdown",
      "metadata": {
        "id": "view-in-github",
        "colab_type": "text"
      },
      "source": [
        "<a href=\"https://colab.research.google.com/github/Lamalz/CPCS433_Project/blob/main/PreprocessingCode.ipynb\" target=\"_parent\"><img src=\"https://colab.research.google.com/assets/colab-badge.svg\" alt=\"Open In Colab\"/></a>"
      ]
    },
    {
      "cell_type": "code",
      "source": [
        "import pandas as pd\n",
        "import numpy as np\n",
        "from sklearn.preprocessing import LabelEncoder, StandardScaler\n",
        "from sklearn.impute import SimpleImputer"
      ],
      "metadata": {
        "id": "5j4nu60Ic7xL"
      },
      "execution_count": 1,
      "outputs": []
    },
    {
      "cell_type": "code",
      "source": [
        "from google.colab import drive\n",
        "drive.mount('/content/drive')\n",
        "\n",
        "import pandas as pd\n",
        "\n",
        "df = pd.read_csv('/content/drive/MyDrive/Crop_recommendation.csv')"
      ],
      "metadata": {
        "colab": {
          "base_uri": "https://localhost:8080/"
        },
        "id": "14WLbru7aH0O",
        "outputId": "8fdd94eb-27ee-484f-b395-e649ed52020b"
      },
      "execution_count": 2,
      "outputs": [
        {
          "output_type": "stream",
          "name": "stdout",
          "text": [
            "Mounted at /content/drive\n"
          ]
        }
      ]
    },
    {
      "cell_type": "code",
      "execution_count": 3,
      "metadata": {
        "colab": {
          "base_uri": "https://localhost:8080/"
        },
        "id": "SQpDc2NLZ9mS",
        "outputId": "1ffe4c6a-e6db-4237-8636-43b8f560716e"
      },
      "outputs": [
        {
          "output_type": "stream",
          "name": "stderr",
          "text": [
            "<ipython-input-3-af2fc7712396>:15: SettingWithCopyWarning: \n",
            "A value is trying to be set on a copy of a slice from a DataFrame.\n",
            "Try using .loc[row_indexer,col_indexer] = value instead\n",
            "\n",
            "See the caveats in the documentation: https://pandas.pydata.org/pandas-docs/stable/user_guide/indexing.html#returning-a-view-versus-a-copy\n",
            "  df['season'] = label_encoder.fit_transform(df['season'])\n",
            "<ipython-input-3-af2fc7712396>:16: SettingWithCopyWarning: \n",
            "A value is trying to be set on a copy of a slice from a DataFrame.\n",
            "Try using .loc[row_indexer,col_indexer] = value instead\n",
            "\n",
            "See the caveats in the documentation: https://pandas.pydata.org/pandas-docs/stable/user_guide/indexing.html#returning-a-view-versus-a-copy\n",
            "  df['label'] = label_encoder.fit_transform(df['label'])\n"
          ]
        }
      ],
      "source": [
        "# Handling missing values\n",
        "imputer = SimpleImputer(strategy='mean')\n",
        "df[['temperature', 'humidity', 'ph', 'water availability']] = imputer.fit_transform(df[['temperature', 'humidity', 'ph', 'water availability']])\n",
        "\n",
        "# Dealing with outliers using IQR\n",
        "Q1 = df[['temperature', 'humidity', 'ph', 'water availability']].quantile(0.25)\n",
        "Q3 = df[['temperature', 'humidity', 'ph', 'water availability']].quantile(0.75)\n",
        "IQR = Q3 - Q1\n",
        "\n",
        "# Removing outliers\n",
        "df = df[~((df[['temperature', 'humidity', 'ph', 'water availability']] < (Q1 - 1.5 * IQR)) | (df[['temperature', 'humidity', 'ph', 'water availability']] > (Q3 + 1.5 * IQR))).any(axis=1)]\n",
        "\n",
        "# Converting categorical data into numerical\n",
        "label_encoder = LabelEncoder()\n",
        "df['season'] = label_encoder.fit_transform(df['season'])\n",
        "df['label'] = label_encoder.fit_transform(df['label'])\n",
        "\n",
        "# Choosing features and target\n",
        "X = df[['temperature', 'humidity', 'ph', 'water availability', 'season']]\n",
        "y = df['label']"
      ]
    }
  ]
}